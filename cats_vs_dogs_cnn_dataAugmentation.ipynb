{
  "nbformat": 4,
  "nbformat_minor": 0,
  "metadata": {
    "colab": {
      "name": "cats-vs-dogs-cnn-dataAugmentation.ipynb",
      "version": "0.3.2",
      "provenance": [],
      "collapsed_sections": []
    },
    "kernelspec": {
      "name": "python3",
      "display_name": "Python 3"
    },
    "accelerator": "GPU"
  },
  "cells": [
    {
      "cell_type": "markdown",
      "metadata": {
        "id": "view-in-github",
        "colab_type": "text"
      },
      "source": [
        "[View in Colaboratory](https://colab.research.google.com/github/trainingroom/datascience/blob/master/cats_vs_dogs_cnn_dataAugmentation.ipynb)"
      ]
    },
    {
      "metadata": {
        "id": "8qqGDdrtLtHq",
        "colab_type": "code",
        "colab": {}
      },
      "cell_type": "code",
      "source": [
        "!pip install kaggle"
      ],
      "execution_count": 0,
      "outputs": []
    },
    {
      "metadata": {
        "id": "W0h5lMilL4wh",
        "colab_type": "code",
        "colab": {}
      },
      "cell_type": "code",
      "source": [
        "from googleapiclient.discovery import build\n",
        "import io, os\n",
        "from googleapiclient.http import MediaIoBaseDownload\n",
        "from google.colab import auth\n",
        "auth.authenticate_user()\n",
        "drive_service = build('drive', 'v3')\n",
        "results = drive_service.files().list(\n",
        "        q=\"name = 'kaggle.json'\", fields=\"files(id)\").execute()\n",
        "kaggle_api_key = results.get('files', [])\n",
        "filename = \"/content/.kaggle/kaggle.json\"\n",
        "os.makedirs(os.path.dirname(filename), exist_ok=True)\n",
        "request = drive_service.files().get_media(fileId=kaggle_api_key[0]['id'])\n",
        "fh = io.FileIO(filename, 'wb')\n",
        "downloader = MediaIoBaseDownload(fh, request)"
      ],
      "execution_count": 0,
      "outputs": []
    },
    {
      "metadata": {
        "id": "LNWnbczMMCL3",
        "colab_type": "code",
        "colab": {
          "base_uri": "https://localhost:8080/",
          "height": 34
        },
        "outputId": "cd6ea13a-f377-46fa-9167-6d2cee17767b"
      },
      "cell_type": "code",
      "source": [
        "done = False\n",
        "while done is False:\n",
        "    status, done = downloader.next_chunk()\n",
        "    print(\"Download %d%%.\" % int(status.progress() * 100))\n",
        "os.chmod(filename, 600)"
      ],
      "execution_count": 3,
      "outputs": [
        {
          "output_type": "stream",
          "text": [
            "Download 100%.\n"
          ],
          "name": "stdout"
        }
      ]
    },
    {
      "metadata": {
        "id": "ha8p1ZTRMPbj",
        "colab_type": "code",
        "colab": {
          "base_uri": "https://localhost:8080/",
          "height": 170
        },
        "outputId": "233dbcca-e386-4ceb-8719-69a848d74264"
      },
      "cell_type": "code",
      "source": [
        "!kaggle competitions download -c dogs-vs-cats -p /content/kaggle/dogs-vs-cats"
      ],
      "execution_count": 4,
      "outputs": [
        {
          "output_type": "stream",
          "text": [
            "Downloading sampleSubmission.csv to /content/kaggle/dogs-vs-cats\r\n",
            "\r  0%|                                               | 0.00/86.8k [00:00<?, ?B/s]\r\n",
            "100%|██████████████████████████████████████| 86.8k/86.8k [00:00<00:00, 37.6MB/s]\n",
            "Downloading test1.zip to /content/kaggle/dogs-vs-cats\n",
            " 92%|█████████████████████████████████████▋   | 249M/271M [00:01<00:00, 188MB/s]\n",
            "100%|█████████████████████████████████████████| 271M/271M [00:01<00:00, 157MB/s]\n",
            "Downloading train.zip to /content/kaggle/dogs-vs-cats\n",
            " 99%|████████████████████████████████████████▋| 539M/543M [00:04<00:00, 130MB/s]\n",
            "100%|█████████████████████████████████████████| 543M/543M [00:04<00:00, 133MB/s]\n"
          ],
          "name": "stdout"
        }
      ]
    },
    {
      "metadata": {
        "id": "gyt34UhJMitY",
        "colab_type": "code",
        "colab": {}
      },
      "cell_type": "code",
      "source": [
        "import zipfile\n",
        "import os\n",
        "os.chdir('/content/kaggle/dogs-vs-cats')\n",
        "zip_ref = zipfile.ZipFile('train.zip', 'r')\n",
        "zip_ref.extractall('/content/kaggle/dogs-vs-cats/extracted')\n",
        "zip_ref.close()"
      ],
      "execution_count": 0,
      "outputs": []
    },
    {
      "metadata": {
        "id": "ZQeKYAhWper6",
        "colab_type": "code",
        "colab": {}
      },
      "cell_type": "code",
      "source": [
        "\n",
        "import os\n",
        "import shutil\n",
        "import matplotlib.pyplot as plt\n",
        "import random\n",
        "\n",
        "def preapare_full_dataset_for_flow(train_dir_original, test_dir_original, target_base_dir, val_percent=0.2):\n",
        "    train_dir = os.path.join(target_base_dir, 'train')\n",
        "    validation_dir = os.path.join(target_base_dir, 'validation')\n",
        "    test_dir = os.path.join(target_base_dir, 'test')\n",
        "\n",
        "    if not os.path.exists(target_base_dir):          \n",
        "        os.mkdir(target_base_dir)\n",
        "        os.mkdir(train_dir)\n",
        "        os.mkdir(validation_dir)\n",
        "        os.mkdir(test_dir)\n",
        "        for c in ['dogs', 'cats']: \n",
        "            os.mkdir(os.path.join(train_dir, c))\n",
        "            os.mkdir(os.path.join(validation_dir, c))\n",
        "        os.mkdir(os.path.join(test_dir, 'images'))\n",
        "        print('created the required directory structure')\n",
        "        \n",
        "        files = os.listdir(train_dir_original)\n",
        "        train_files = [os.path.join(train_dir_original, f) for f in files]\n",
        "        random.shuffle(train_files)    \n",
        "        n = int(len(train_files) * val_percent)\n",
        "        val = train_files[:n]\n",
        "        train = train_files[n:]  \n",
        "\n",
        "        for t in train:\n",
        "            if 'cat' in t:\n",
        "                shutil.copy2(t, os.path.join(train_dir, 'cats'))\n",
        "            else:\n",
        "                shutil.copy2(t, os.path.join(train_dir, 'dogs'))\n",
        "     \n",
        "        for v in val:\n",
        "            if 'cat' in v:\n",
        "                shutil.copy2(v, os.path.join(validation_dir, 'cats'))\n",
        "            else:\n",
        "                shutil.copy2(v, os.path.join(validation_dir, 'dogs'))\n",
        "        files = os.listdir(test_dir_original)\n",
        "        test_files = [os.path.join(test_dir_original, f) for f in files]\n",
        "        for t in test_files:\n",
        "            shutil.copy2(t, os.path.join(test_dir, 'images'))\n",
        "    else:\n",
        "        print('required directory structure already exists. learning continues with existing data')\n",
        "\n",
        "    nb_train_samples = 0  \n",
        "    nb_validation_samples = 0\n",
        "    for c in ['dogs', 'cats']:\n",
        "        nb_train_samples = nb_train_samples + len(os.listdir(os.path.join(train_dir, c)))\n",
        "    print('total training images:', nb_train_samples)\n",
        "    for c in ['dogs', 'cats']:\n",
        "        nb_validation_samples = nb_validation_samples + len(os.listdir(os.path.join(validation_dir, c)))\n",
        "    print('total validation images:', nb_validation_samples)\n",
        "    nb_test_samples = len(os.listdir(os.path.join(test_dir, 'images')))\n",
        "    print('total test images:', nb_test_samples )\n",
        "    \n",
        "    return train_dir, validation_dir, test_dir, nb_train_samples, nb_validation_samples, nb_test_samples\n",
        "\n",
        "def preapare_small_dataset_for_flow(train_dir_original, test_dir_original, target_base_dir):\n",
        "    train_dir = os.path.join(target_base_dir, 'train')\n",
        "    validation_dir = os.path.join(target_base_dir, 'validation')\n",
        "    test_dir = os.path.join(target_base_dir, 'test')\n",
        "\n",
        "    if not os.path.exists(target_base_dir):          \n",
        "        os.mkdir(target_base_dir)\n",
        "        os.mkdir(train_dir)\n",
        "        os.mkdir(validation_dir)\n",
        "        os.mkdir(test_dir)\n",
        "        for c in ['dogs', 'cats']: \n",
        "            os.mkdir(os.path.join(train_dir, c))\n",
        "            os.mkdir(os.path.join(validation_dir, c))\n",
        "        os.mkdir(os.path.join(test_dir, 'images'))\n",
        "        print('created the required directory structure')        \n",
        "       \n",
        "        train_cats = ['cat.{}.jpg'.format(i) for i in range(11000)]\n",
        "        for t in train_cats:\n",
        "             shutil.copy2(os.path.join(train_dir_original, t), os.path.join(train_dir, 'cats'))\n",
        "        train_dogs = ['dog.{}.jpg'.format(i) for i in range(11000)]\n",
        "        for t in train_dogs:\n",
        "             shutil.copy2(os.path.join(train_dir_original, t), os.path.join(train_dir, 'dogs'))        \n",
        "        val_cats = ['cat.{}.jpg'.format(i) for i in range(11000, 12500)]\n",
        "        for t in val_cats:\n",
        "             shutil.copy2(os.path.join(train_dir_original, t), os.path.join(validation_dir, 'cats'))\n",
        "        val_dogs = ['dog.{}.jpg'.format(i) for i in range(11000, 12500)]\n",
        "        for t in val_dogs:\n",
        "             shutil.copy2(os.path.join(train_dir_original, t), os.path.join(validation_dir, 'dogs'))\n",
        "\n",
        "        files = os.listdir(test_dir_original)           \n",
        "        test_files = [os.path.join(test_dir_original, f) for f in files]\n",
        "        for t in test_files:\n",
        "            shutil.copy2(t, os.path.join(test_dir, 'images'))\n",
        "    else:\n",
        "        print('required directory structure already exists. learning continues with existing data')\n",
        "    \n",
        "    nb_train_samples = 0  \n",
        "    nb_validation_samples = 0\n",
        "    for c in ['dogs', 'cats']:\n",
        "        nb_train_samples = nb_train_samples + len(os.listdir(os.path.join(train_dir, c)))\n",
        "    print('total training images:', nb_train_samples)\n",
        "    for c in ['dogs', 'cats']:\n",
        "        nb_validation_samples = nb_validation_samples + len(os.listdir(os.path.join(validation_dir, c)))\n",
        "    print('total validation images:', nb_validation_samples)\n",
        "    nb_test_samples = len(os.listdir(os.path.join(test_dir, 'images')))\n",
        "    print('total test images:', nb_test_samples )\n",
        "\n",
        "    return train_dir, validation_dir, test_dir, nb_train_samples, nb_validation_samples, nb_test_samples\n",
        "def plot_loss_accuracy(history):\n",
        "    acc = history.history['acc']\n",
        "    val_acc = history.history['val_acc']\n",
        "    epochs = range(len(history.epoch))\n",
        "    plt.plot(epochs, acc, 'bo', label='Training acc')\n",
        "    plt.plot(epochs, val_acc, 'b', label='Validation acc')\n",
        "    plt.title('Training and validation accuracy')\n",
        "    plt.legend()\n",
        "    \n",
        "    plt.figure()\n",
        "    loss = history.history['loss']\n",
        "    val_loss = history.history['val_loss']\n",
        "    plt.plot(epochs, loss, 'bo', label='Training loss')\n",
        "    plt.plot(epochs, val_loss, 'b', label='Validation loss')\n",
        "    plt.title('Training and validation loss')\n",
        "    plt.legend()\n",
        "\n",
        "    plt.show()"
      ],
      "execution_count": 0,
      "outputs": []
    },
    {
      "metadata": {
        "id": "_m0F99_tpr95",
        "colab_type": "code",
        "colab": {
          "base_uri": "https://localhost:8080/",
          "height": 34
        },
        "outputId": "1e1bd2fa-c7bc-46d1-baac-51ff635e0dca"
      },
      "cell_type": "code",
      "source": [
        "\n",
        "from keras.preprocessing.image import ImageDataGenerator\n",
        "from keras.models import Sequential\n",
        "from keras.layers import Conv2D, MaxPooling2D\n",
        "from keras.layers import Flatten, Dense, Dropout\n",
        "from keras import backend as K\n",
        "import os, shutil, random\n",
        "import matplotlib.pyplot as plt\n",
        "import pandas as pd\n",
        "from keras.callbacks import ModelCheckpoint, EarlyStopping"
      ],
      "execution_count": 8,
      "outputs": [
        {
          "output_type": "stream",
          "text": [
            "Using TensorFlow backend.\n"
          ],
          "name": "stderr"
        }
      ]
    },
    {
      "metadata": {
        "id": "H7-592ESqCOs",
        "colab_type": "code",
        "colab": {
          "base_uri": "https://localhost:8080/",
          "height": 85
        },
        "outputId": "4aad0995-00a8-4fd3-ba34-8786873a1440"
      },
      "cell_type": "code",
      "source": [
        "train_dir, validation_dir, test_dir, nb_train_samples, nb_validation_samples,nb_test_samples = preapare_full_dataset_for_flow(\n",
        "                            train_dir_original='/content/kaggle/dogs-vs-cats/extracted/train', \n",
        "                            test_dir_original='/content/kaggle/dogs-vs-cats/extracted/test1',\n",
        "                            target_base_dir='/content/kaggle/dogs-vs-cats/extracted/target')"
      ],
      "execution_count": 9,
      "outputs": [
        {
          "output_type": "stream",
          "text": [
            "created the required directory structure\n",
            "total training images: 20000\n",
            "total validation images: 5000\n",
            "total test images: 12500\n"
          ],
          "name": "stdout"
        }
      ]
    },
    {
      "metadata": {
        "id": "6Dg3_AUyOo9Q",
        "colab_type": "code",
        "colab": {}
      },
      "cell_type": "code",
      "source": [
        "\n",
        "\n",
        "img_width, img_height = 150, 150\n",
        "epochs = 50\n",
        "batch_size = 20\n",
        "\n",
        "if K.image_data_format() == 'channels_first':\n",
        "    input_shape = (3, img_width, img_height)\n",
        "else:\n",
        "    input_shape = (img_width, img_height, 3)"
      ],
      "execution_count": 0,
      "outputs": []
    },
    {
      "metadata": {
        "id": "CTNDXu7pyWpl",
        "colab_type": "code",
        "colab": {
          "base_uri": "https://localhost:8080/",
          "height": 561
        },
        "outputId": "4a50e7b6-51c2-42fc-f32c-f0e491f35d23"
      },
      "cell_type": "code",
      "source": [
        "\n",
        "model = Sequential()\n",
        "model.add(Conv2D(32, (3, 3), activation='relu',input_shape=input_shape))\n",
        "model.add(MaxPooling2D((2, 2)))\n",
        "model.add(Conv2D(64, (3, 3), activation='relu'))\n",
        "model.add(MaxPooling2D((2, 2)))\n",
        "model.add(Conv2D(128, (3, 3), activation='relu'))\n",
        "model.add(MaxPooling2D((2, 2)))\n",
        "model.add(Conv2D(128, (3, 3), activation='relu'))\n",
        "model.add(MaxPooling2D((2, 2)))\n",
        "model.add(Flatten())\n",
        "model.add(Dense(512, activation='relu'))\n",
        "model.add(Dropout(0.5))\n",
        "model.add(Dense(2, activation='softmax'))\n",
        "print(model.summary())"
      ],
      "execution_count": 11,
      "outputs": [
        {
          "output_type": "stream",
          "text": [
            "_________________________________________________________________\n",
            "Layer (type)                 Output Shape              Param #   \n",
            "=================================================================\n",
            "conv2d_1 (Conv2D)            (None, 148, 148, 32)      896       \n",
            "_________________________________________________________________\n",
            "max_pooling2d_1 (MaxPooling2 (None, 74, 74, 32)        0         \n",
            "_________________________________________________________________\n",
            "conv2d_2 (Conv2D)            (None, 72, 72, 64)        18496     \n",
            "_________________________________________________________________\n",
            "max_pooling2d_2 (MaxPooling2 (None, 36, 36, 64)        0         \n",
            "_________________________________________________________________\n",
            "conv2d_3 (Conv2D)            (None, 34, 34, 128)       73856     \n",
            "_________________________________________________________________\n",
            "max_pooling2d_3 (MaxPooling2 (None, 17, 17, 128)       0         \n",
            "_________________________________________________________________\n",
            "conv2d_4 (Conv2D)            (None, 15, 15, 128)       147584    \n",
            "_________________________________________________________________\n",
            "max_pooling2d_4 (MaxPooling2 (None, 7, 7, 128)         0         \n",
            "_________________________________________________________________\n",
            "flatten_1 (Flatten)          (None, 6272)              0         \n",
            "_________________________________________________________________\n",
            "dense_1 (Dense)              (None, 512)               3211776   \n",
            "_________________________________________________________________\n",
            "dropout_1 (Dropout)          (None, 512)               0         \n",
            "_________________________________________________________________\n",
            "dense_2 (Dense)              (None, 2)                 1026      \n",
            "=================================================================\n",
            "Total params: 3,453,634\n",
            "Trainable params: 3,453,634\n",
            "Non-trainable params: 0\n",
            "_________________________________________________________________\n",
            "None\n"
          ],
          "name": "stdout"
        }
      ]
    },
    {
      "metadata": {
        "id": "KwpwwaQOybPQ",
        "colab_type": "code",
        "colab": {}
      },
      "cell_type": "code",
      "source": [
        "\n",
        "model.compile(loss='binary_crossentropy', \n",
        "              optimizer='adam',\n",
        "              metrics=['accuracy'])"
      ],
      "execution_count": 0,
      "outputs": []
    },
    {
      "metadata": {
        "id": "S0CHXN8fyf0F",
        "colab_type": "code",
        "colab": {}
      },
      "cell_type": "code",
      "source": [
        "\n",
        "#Data Augmentation (New Data Generation)\n",
        "train_datagen = ImageDataGenerator(\n",
        "        rescale=1./255,\n",
        "        rotation_range=40,\n",
        "        width_shift_range=0.2,\n",
        "        height_shift_range=0.2,\n",
        "        shear_range=0.2,\n",
        "        zoom_range=0.2,\n",
        "        horizontal_flip=True,\n",
        "        fill_mode='nearest')"
      ],
      "execution_count": 0,
      "outputs": []
    },
    {
      "metadata": {
        "id": "2WE2m4LVyjVP",
        "colab_type": "code",
        "colab": {}
      },
      "cell_type": "code",
      "source": [
        "#If we want, you can write all these Augmented data into new files\n",
        "validation_datagen = ImageDataGenerator(rescale=1. / 255)"
      ],
      "execution_count": 0,
      "outputs": []
    },
    {
      "metadata": {
        "id": "0hpLCnkSyscD",
        "colab_type": "code",
        "colab": {
          "base_uri": "https://localhost:8080/",
          "height": 51
        },
        "outputId": "8c237904-80ef-4d5f-ae3f-887823978aa3"
      },
      "cell_type": "code",
      "source": [
        "\n",
        "train_generator = train_datagen.flow_from_directory(\n",
        "    train_dir,\n",
        "    target_size=(img_width, img_height),\n",
        "    batch_size=batch_size,\n",
        "    class_mode='categorical')\n",
        "validation_generator = validation_datagen.flow_from_directory(\n",
        "    validation_dir,\n",
        "    target_size=(img_width, img_height),\n",
        "    batch_size=batch_size,\n",
        "    class_mode='categorical')\n",
        "\n",
        "early_stopping = EarlyStopping(monitor='val_loss', patience=10, verbose=1, mode='auto')   \n",
        "save_weights = ModelCheckpoint('model.h5', monitor='val_loss', save_best_only=True)"
      ],
      "execution_count": 15,
      "outputs": [
        {
          "output_type": "stream",
          "text": [
            "Found 20000 images belonging to 2 classes.\n",
            "Found 5000 images belonging to 2 classes.\n"
          ],
          "name": "stdout"
        }
      ]
    },
    {
      "metadata": {
        "id": "aPT7ACs6y1Si",
        "colab_type": "code",
        "colab": {
          "base_uri": "https://localhost:8080/",
          "height": 768
        },
        "outputId": "40f2b3cb-760c-4958-9064-559388b4fd54"
      },
      "cell_type": "code",
      "source": [
        "history = model.fit_generator(\n",
        "    train_generator,\n",
        "    steps_per_epoch=nb_train_samples//batch_size,\n",
        "    epochs=epochs,\n",
        "    validation_data=validation_generator,\n",
        "    validation_steps=nb_validation_samples//batch_size,\n",
        "    callbacks=[save_weights, early_stopping])\n"
      ],
      "execution_count": 16,
      "outputs": [
        {
          "output_type": "stream",
          "text": [
            "Epoch 1/100\n",
            "1000/1000 [==============================] - 209s 209ms/step - loss: 6.9524e-04 - acc: 0.9999 - val_loss: 1.0960e-07 - val_acc: 1.0000\n",
            "Epoch 2/100\n",
            "   4/1000 [..............................] - ETA: 1:04 - loss: 1.0960e-07 - acc: 1.0000"
          ],
          "name": "stdout"
        },
        {
          "output_type": "stream",
          "text": [
            "1000/1000 [==============================] - 205s 205ms/step - loss: 1.0960e-07 - acc: 1.0000 - val_loss: 1.0960e-07 - val_acc: 1.0000\n",
            "Epoch 3/100\n",
            "  49/1000 [>.............................] - ETA: 2:24 - loss: 1.0960e-07 - acc: 1.0000"
          ],
          "name": "stdout"
        },
        {
          "output_type": "stream",
          "text": [
            "1000/1000 [==============================] - 205s 205ms/step - loss: 1.0960e-07 - acc: 1.0000 - val_loss: 1.0960e-07 - val_acc: 1.0000\n",
            "Epoch 4/100\n",
            "  67/1000 [=>............................] - ETA: 2:35 - loss: 1.0960e-07 - acc: 1.0000"
          ],
          "name": "stdout"
        },
        {
          "output_type": "stream",
          "text": [
            "1000/1000 [==============================] - 208s 208ms/step - loss: 1.0960e-07 - acc: 1.0000 - val_loss: 1.0960e-07 - val_acc: 1.0000\n",
            "Epoch 5/100\n",
            "  62/1000 [>.............................] - ETA: 2:30 - loss: 1.0960e-07 - acc: 1.0000"
          ],
          "name": "stdout"
        },
        {
          "output_type": "stream",
          "text": [
            "1000/1000 [==============================] - 204s 204ms/step - loss: 1.0960e-07 - acc: 1.0000 - val_loss: 1.0960e-07 - val_acc: 1.0000\n",
            "Epoch 6/100\n",
            "  72/1000 [=>............................] - ETA: 2:31 - loss: 1.0960e-07 - acc: 1.0000"
          ],
          "name": "stdout"
        },
        {
          "output_type": "stream",
          "text": [
            "1000/1000 [==============================] - 207s 207ms/step - loss: 1.0960e-07 - acc: 1.0000 - val_loss: 1.0960e-07 - val_acc: 1.0000\n",
            "Epoch 7/100\n",
            "  63/1000 [>.............................] - ETA: 2:32 - loss: 1.0960e-07 - acc: 1.0000"
          ],
          "name": "stdout"
        },
        {
          "output_type": "stream",
          "text": [
            "1000/1000 [==============================] - 206s 206ms/step - loss: 1.0960e-07 - acc: 1.0000 - val_loss: 1.0960e-07 - val_acc: 1.0000\n",
            "Epoch 8/100\n",
            "  66/1000 [>.............................] - ETA: 2:30 - loss: 1.0960e-07 - acc: 1.0000"
          ],
          "name": "stdout"
        },
        {
          "output_type": "stream",
          "text": [
            "1000/1000 [==============================] - 204s 204ms/step - loss: 1.0960e-07 - acc: 1.0000 - val_loss: 1.0960e-07 - val_acc: 1.0000\n",
            "Epoch 9/100\n",
            "  76/1000 [=>............................] - ETA: 2:30 - loss: 1.0960e-07 - acc: 1.0000"
          ],
          "name": "stdout"
        },
        {
          "output_type": "stream",
          "text": [
            "1000/1000 [==============================] - 204s 204ms/step - loss: 1.0960e-07 - acc: 1.0000 - val_loss: 1.0960e-07 - val_acc: 1.0000\n",
            "Epoch 10/100\n",
            "  75/1000 [=>............................] - ETA: 2:33 - loss: 1.0960e-07 - acc: 1.0000"
          ],
          "name": "stdout"
        },
        {
          "output_type": "stream",
          "text": [
            "1000/1000 [==============================] - 205s 205ms/step - loss: 1.0960e-07 - acc: 1.0000 - val_loss: 1.0960e-07 - val_acc: 1.0000\n",
            "Epoch 11/100\n",
            "  73/1000 [=>............................] - ETA: 2:32 - loss: 1.0960e-07 - acc: 1.0000"
          ],
          "name": "stdout"
        },
        {
          "output_type": "stream",
          "text": [
            "1000/1000 [==============================] - 205s 205ms/step - loss: 1.0960e-07 - acc: 1.0000 - val_loss: 1.0960e-07 - val_acc: 1.0000\n",
            "Epoch 12/100\n",
            "  74/1000 [=>............................] - ETA: 2:32 - loss: 1.0960e-07 - acc: 1.0000"
          ],
          "name": "stdout"
        },
        {
          "output_type": "stream",
          "text": [
            "1000/1000 [==============================] - 205s 205ms/step - loss: 1.0960e-07 - acc: 1.0000 - val_loss: 1.0960e-07 - val_acc: 1.0000\n",
            "Epoch 13/100\n",
            "  71/1000 [=>............................] - ETA: 2:33 - loss: 1.0960e-07 - acc: 1.0000"
          ],
          "name": "stdout"
        },
        {
          "output_type": "stream",
          "text": [
            "1000/1000 [==============================] - 204s 204ms/step - loss: 1.0960e-07 - acc: 1.0000 - val_loss: 1.0960e-07 - val_acc: 1.0000\n",
            "Epoch 14/100\n",
            "  76/1000 [=>............................] - ETA: 2:32 - loss: 1.0960e-07 - acc: 1.0000"
          ],
          "name": "stdout"
        },
        {
          "output_type": "stream",
          "text": [
            "1000/1000 [==============================] - 205s 205ms/step - loss: 1.0960e-07 - acc: 1.0000 - val_loss: 1.0960e-07 - val_acc: 1.0000\n",
            "Epoch 15/100\n",
            "  70/1000 [=>............................] - ETA: 2:32 - loss: 1.0960e-07 - acc: 1.0000"
          ],
          "name": "stdout"
        },
        {
          "output_type": "stream",
          "text": [
            "1000/1000 [==============================] - 209s 209ms/step - loss: 1.0960e-07 - acc: 1.0000 - val_loss: 1.0960e-07 - val_acc: 1.0000\n",
            "Epoch 16/100\n",
            "  59/1000 [>.............................] - ETA: 2:33 - loss: 1.0960e-07 - acc: 1.0000\b\b\b\b\b\b\b\b\b\b\b\b\b\b\b\b\b\b\b\b\b\b\b\b\b\b\b\b\b\b\b\b\b\b\b\b\b\b\b\b\b\b\b\b\b\b\b\b\b\b\b\b\b\b\b\b\b\b\b\b\b\b\b\b\b\b\b\b\b\b\b\b\b\b\b\b\b\b\b\b\b\b\b\b\b\b\b"
          ],
          "name": "stdout"
        },
        {
          "output_type": "stream",
          "text": [
            "1000/1000 [==============================] - 210s 210ms/step - loss: 1.0960e-07 - acc: 1.0000 - val_loss: 1.0960e-07 - val_acc: 1.0000\n",
            "Epoch 17/100\n",
            "  53/1000 [>.............................] - ETA: 2:29 - loss: 1.0960e-07 - acc: 1.0000"
          ],
          "name": "stdout"
        },
        {
          "output_type": "stream",
          "text": [
            "1000/1000 [==============================] - 206s 206ms/step - loss: 1.0960e-07 - acc: 1.0000 - val_loss: 1.0960e-07 - val_acc: 1.0000\n",
            "Epoch 18/100\n",
            "  65/1000 [>.............................] - ETA: 2:32 - loss: 1.0960e-07 - acc: 1.0000"
          ],
          "name": "stdout"
        },
        {
          "output_type": "stream",
          "text": [
            "1000/1000 [==============================] - 206s 206ms/step - loss: 1.0960e-07 - acc: 1.0000 - val_loss: 1.0960e-07 - val_acc: 1.0000\n",
            "Epoch 19/100\n",
            "  71/1000 [=>............................] - ETA: 2:31 - loss: 1.0960e-07 - acc: 1.0000"
          ],
          "name": "stdout"
        },
        {
          "output_type": "stream",
          "text": [
            "1000/1000 [==============================] - 204s 204ms/step - loss: 1.0960e-07 - acc: 1.0000 - val_loss: 1.0960e-07 - val_acc: 1.0000\n",
            "Epoch 20/100\n",
            "  72/1000 [=>............................] - ETA: 2:31 - loss: 1.0960e-07 - acc: 1.0000"
          ],
          "name": "stdout"
        },
        {
          "output_type": "stream",
          "text": [
            "1000/1000 [==============================] - 205s 205ms/step - loss: 1.0960e-07 - acc: 1.0000 - val_loss: 1.0960e-07 - val_acc: 1.0000\n",
            "Epoch 21/100\n",
            "  78/1000 [=>............................] - ETA: 2:34 - loss: 1.0960e-07 - acc: 1.0000"
          ],
          "name": "stdout"
        },
        {
          "output_type": "stream",
          "text": [
            "1000/1000 [==============================] - 205s 205ms/step - loss: 1.0960e-07 - acc: 1.0000 - val_loss: 1.0960e-07 - val_acc: 1.0000\n",
            "Epoch 00021: early stopping\n"
          ],
          "name": "stdout"
        }
      ]
    },
    {
      "metadata": {
        "id": "LeUrYwTx50d4",
        "colab_type": "code",
        "colab": {
          "base_uri": "https://localhost:8080/",
          "height": 34
        },
        "outputId": "dd5a6129-2060-408f-c8c4-684b353c5ef8"
      },
      "cell_type": "code",
      "source": [
        "test_datagen = ImageDataGenerator(rescale=1. / 255)\n",
        "test_generator = test_datagen.flow_from_directory(\n",
        "        test_dir,\n",
        "        target_size=(img_width, img_height),\n",
        "        batch_size=batch_size,\n",
        "        class_mode=None,\n",
        "        shuffle=False)\n",
        "#print(test_generator.filenames)\n",
        "probabilities = model.predict_generator(test_generator, nb_test_samples//batch_size)\n",
        "\n",
        "mapper = {}\n",
        "i = 0"
      ],
      "execution_count": 17,
      "outputs": [
        {
          "output_type": "stream",
          "text": [
            "Found 12500 images belonging to 1 classes.\n"
          ],
          "name": "stdout"
        }
      ]
    },
    {
      "metadata": {
        "id": "HBzd6WMA6Dm5",
        "colab_type": "code",
        "colab": {}
      },
      "cell_type": "code",
      "source": [
        "for file in test_generator.filenames:\n",
        "    id = int(file.split('/')[1].split('.')[0])\n",
        "    #Lexographic order\n",
        "    #mapper[id] = probabilities[i][0] #Cats\n",
        "    mapper[id] = probabilities[i][1] #Dogs\n",
        "    i += 1\n",
        "    \n",
        "#od = collections.OrderedDict(sorted(mapper.items()))    \n",
        "tmp = pd.DataFrame({'id':list(mapper.keys()),'label':list(mapper.values())})    \n",
        "tmp.to_csv('submission.csv', columns=['id','label'], index=False)"
      ],
      "execution_count": 0,
      "outputs": []
    },
    {
      "metadata": {
        "id": "lumf_xo-QaYR",
        "colab_type": "code",
        "colab": {
          "base_uri": "https://localhost:8080/",
          "height": 119
        },
        "outputId": "9c11f991-c5a8-4eff-d57a-07f1cfa141f1"
      },
      "cell_type": "code",
      "source": [
        "os.getcwd()\n",
        "os.listdir()"
      ],
      "execution_count": 20,
      "outputs": [
        {
          "output_type": "execute_result",
          "data": {
            "text/plain": [
              "['extracted',\n",
              " 'test1.zip',\n",
              " 'model.h5',\n",
              " 'submission.csv',\n",
              " 'sampleSubmission.csv',\n",
              " 'train.zip']"
            ]
          },
          "metadata": {
            "tags": []
          },
          "execution_count": 20
        }
      ]
    }
  ]
}