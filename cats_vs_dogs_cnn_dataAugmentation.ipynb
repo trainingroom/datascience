{
  "nbformat": 4,
  "nbformat_minor": 0,
  "metadata": {
    "colab": {
      "name": "cats-vs-dogs-cnn-dataAugmentation.ipynb",
      "version": "0.3.2",
      "provenance": []
    },
    "kernelspec": {
      "name": "python3",
      "display_name": "Python 3"
    },
    "accelerator": "GPU"
  },
  "cells": [
    {
      "cell_type": "markdown",
      "metadata": {
        "id": "view-in-github",
        "colab_type": "text"
      },
      "source": [
        "[View in Colaboratory](https://colab.research.google.com/github/trainingroom/datascience/blob/master/cats_vs_dogs_cnn_dataAugmentation.ipynb)"
      ]
    },
    {
      "metadata": {
        "id": "8qqGDdrtLtHq",
        "colab_type": "code",
        "colab": {
          "base_uri": "https://localhost:8080/",
          "height": 343
        },
        "outputId": "a9168d89-1de5-4239-cb82-c81969f21139"
      },
      "cell_type": "code",
      "source": [
        "!pip install kaggle"
      ],
      "execution_count": 13,
      "outputs": [
        {
          "output_type": "stream",
          "text": [
            "Collecting kaggle\n",
            "  Downloading https://files.pythonhosted.org/packages/04/ab/b4d50f1b22731ae42df7f608180398e8971ba4f5014d07684af98bda3b57/kaggle-1.3.9.tar.gz\n",
            "Requirement already satisfied: urllib3>=1.15 in /usr/local/lib/python3.6/dist-packages (from kaggle) (1.22)\n",
            "Requirement already satisfied: six>=1.10 in /usr/local/lib/python3.6/dist-packages (from kaggle) (1.11.0)\n",
            "Requirement already satisfied: certifi in /usr/local/lib/python3.6/dist-packages (from kaggle) (2018.4.16)\n",
            "Requirement already satisfied: python-dateutil in /usr/local/lib/python3.6/dist-packages (from kaggle) (2.5.3)\n",
            "Requirement already satisfied: requests in /usr/local/lib/python3.6/dist-packages (from kaggle) (2.18.4)\n",
            "Collecting tqdm (from kaggle)\n",
            "\u001b[?25l  Downloading https://files.pythonhosted.org/packages/93/24/6ab1df969db228aed36a648a8959d1027099ce45fad67532b9673d533318/tqdm-4.23.4-py2.py3-none-any.whl (42kB)\n",
            "\u001b[K    100% |████████████████████████████████| 51kB 4.0MB/s \n",
            "\u001b[?25hRequirement already satisfied: chardet<3.1.0,>=3.0.2 in /usr/local/lib/python3.6/dist-packages (from requests->kaggle) (3.0.4)\n",
            "Requirement already satisfied: idna<2.7,>=2.5 in /usr/local/lib/python3.6/dist-packages (from requests->kaggle) (2.6)\n",
            "Building wheels for collected packages: kaggle\n",
            "  Running setup.py bdist_wheel for kaggle ... \u001b[?25l-\b \b\\\b \bdone\n",
            "\u001b[?25h  Stored in directory: /content/.cache/pip/wheels/5e/45/f9/87cd2b0ac15f910d09ba5005be2cf33013177573bda7d57cb7\n",
            "Successfully built kaggle\n",
            "Installing collected packages: tqdm, kaggle\n",
            "Successfully installed kaggle-1.3.9 tqdm-4.23.4\n"
          ],
          "name": "stdout"
        }
      ]
    },
    {
      "metadata": {
        "id": "W0h5lMilL4wh",
        "colab_type": "code",
        "colab": {}
      },
      "cell_type": "code",
      "source": [
        "from googleapiclient.discovery import build\n",
        "import io, os\n",
        "from googleapiclient.http import MediaIoBaseDownload\n",
        "from google.colab import auth\n",
        "auth.authenticate_user()\n",
        "drive_service = build('drive', 'v3')\n",
        "results = drive_service.files().list(\n",
        "        q=\"name = 'kaggle.json'\", fields=\"files(id)\").execute()\n",
        "kaggle_api_key = results.get('files', [])\n",
        "filename = \"/content/.kaggle/kaggle.json\"\n",
        "os.makedirs(os.path.dirname(filename), exist_ok=True)\n",
        "request = drive_service.files().get_media(fileId=kaggle_api_key[0]['id'])\n",
        "fh = io.FileIO(filename, 'wb')\n",
        "downloader = MediaIoBaseDownload(fh, request)"
      ],
      "execution_count": 0,
      "outputs": []
    },
    {
      "metadata": {
        "id": "LNWnbczMMCL3",
        "colab_type": "code",
        "colab": {
          "base_uri": "https://localhost:8080/",
          "height": 34
        },
        "outputId": "5b71b4ce-ffe7-48e9-fd5e-ff8b59c4b7d5"
      },
      "cell_type": "code",
      "source": [
        "done = False\n",
        "while done is False:\n",
        "    status, done = downloader.next_chunk()\n",
        "    print(\"Download %d%%.\" % int(status.progress() * 100))\n",
        "os.chmod(filename, 600)"
      ],
      "execution_count": 15,
      "outputs": [
        {
          "output_type": "stream",
          "text": [
            "Download 100%.\n"
          ],
          "name": "stdout"
        }
      ]
    },
    {
      "metadata": {
        "id": "ha8p1ZTRMPbj",
        "colab_type": "code",
        "colab": {
          "base_uri": "https://localhost:8080/",
          "height": 170
        },
        "outputId": "d6a0add3-6e69-45d1-8e97-fe851c26f8d3"
      },
      "cell_type": "code",
      "source": [
        "!kaggle competitions download -c dogs-vs-cats -p /content/kaggle/dogs-vs-cats"
      ],
      "execution_count": 16,
      "outputs": [
        {
          "output_type": "stream",
          "text": [
            "Downloading sampleSubmission.csv to /content/kaggle/dogs-vs-cats\r\n",
            "\r  0%|                                               | 0.00/86.8k [00:00<?, ?B/s]\r\n",
            "100%|██████████████████████████████████████| 86.8k/86.8k [00:00<00:00, 39.9MB/s]\n",
            "Downloading test1.zip to /content/kaggle/dogs-vs-cats\n",
            " 98%|████████████████████████████████████████▏| 266M/271M [00:01<00:00, 167MB/s]\n",
            "100%|█████████████████████████████████████████| 271M/271M [00:01<00:00, 161MB/s]\n",
            "Downloading train.zip to /content/kaggle/dogs-vs-cats\n",
            " 98%|████████████████████████████████████████▎| 534M/543M [00:03<00:00, 130MB/s]\n",
            "100%|█████████████████████████████████████████| 543M/543M [00:03<00:00, 164MB/s]\n"
          ],
          "name": "stdout"
        }
      ]
    },
    {
      "metadata": {
        "id": "gyt34UhJMitY",
        "colab_type": "code",
        "colab": {}
      },
      "cell_type": "code",
      "source": [
        "import zipfile\n",
        "import os\n",
        "os.chdir('/content/kaggle/dogs-vs-cats')\n",
        "zip_ref = zipfile.ZipFile('test1.zip', 'r')\n",
        "zip_ref.extractall('/content/kaggle/dogs-vs-cats/extracted')\n",
        "zip_ref.close()"
      ],
      "execution_count": 0,
      "outputs": []
    },
    {
      "metadata": {
        "id": "ZQeKYAhWper6",
        "colab_type": "code",
        "colab": {}
      },
      "cell_type": "code",
      "source": [
        "\n",
        "import os\n",
        "import shutil\n",
        "import matplotlib.pyplot as plt\n",
        "import random\n",
        "\n",
        "def preapare_full_dataset_for_flow(train_dir_original, test_dir_original, target_base_dir, val_percent=0.2):\n",
        "    train_dir = os.path.join(target_base_dir, 'train')\n",
        "    validation_dir = os.path.join(target_base_dir, 'validation')\n",
        "    test_dir = os.path.join(target_base_dir, 'test')\n",
        "\n",
        "    if not os.path.exists(target_base_dir):          \n",
        "        os.mkdir(target_base_dir)\n",
        "        os.mkdir(train_dir)\n",
        "        os.mkdir(validation_dir)\n",
        "        os.mkdir(test_dir)\n",
        "        for c in ['dogs', 'cats']: \n",
        "            os.mkdir(os.path.join(train_dir, c))\n",
        "            os.mkdir(os.path.join(validation_dir, c))\n",
        "        os.mkdir(os.path.join(test_dir, 'images'))\n",
        "        print('created the required directory structure')\n",
        "        \n",
        "        files = os.listdir(train_dir_original)\n",
        "        train_files = [os.path.join(train_dir_original, f) for f in files]\n",
        "        random.shuffle(train_files)    \n",
        "        n = int(len(train_files) * val_percent)\n",
        "        val = train_files[:n]\n",
        "        train = train_files[n:]  \n",
        "\n",
        "        for t in train:\n",
        "            if 'cat' in t:\n",
        "                shutil.copy2(t, os.path.join(train_dir, 'cats'))\n",
        "            else:\n",
        "                shutil.copy2(t, os.path.join(train_dir, 'dogs'))\n",
        "     \n",
        "        for v in val:\n",
        "            if 'cat' in v:\n",
        "                shutil.copy2(v, os.path.join(validation_dir, 'cats'))\n",
        "            else:\n",
        "                shutil.copy2(v, os.path.join(validation_dir, 'dogs'))\n",
        "        files = os.listdir(test_dir_original)\n",
        "        test_files = [os.path.join(test_dir_original, f) for f in files]\n",
        "        for t in test_files:\n",
        "            shutil.copy2(t, os.path.join(test_dir, 'images'))\n",
        "    else:\n",
        "        print('required directory structure already exists. learning continues with existing data')\n",
        "\n",
        "    nb_train_samples = 0  \n",
        "    nb_validation_samples = 0\n",
        "    for c in ['dogs', 'cats']:\n",
        "        nb_train_samples = nb_train_samples + len(os.listdir(os.path.join(train_dir, c)))\n",
        "    print('total training images:', nb_train_samples)\n",
        "    for c in ['dogs', 'cats']:\n",
        "        nb_validation_samples = nb_validation_samples + len(os.listdir(os.path.join(validation_dir, c)))\n",
        "    print('total validation images:', nb_validation_samples)\n",
        "    nb_test_samples = len(os.listdir(os.path.join(test_dir, 'images')))\n",
        "    print('total test images:', nb_test_samples )\n",
        "    \n",
        "    return train_dir, validation_dir, test_dir, nb_train_samples, nb_validation_samples, nb_test_samples\n",
        "\n",
        "def preapare_small_dataset_for_flow(train_dir_original, test_dir_original, target_base_dir):\n",
        "    train_dir = os.path.join(target_base_dir, 'train')\n",
        "    validation_dir = os.path.join(target_base_dir, 'validation')\n",
        "    test_dir = os.path.join(target_base_dir, 'test')\n",
        "\n",
        "    if not os.path.exists(target_base_dir):          \n",
        "        os.mkdir(target_base_dir)\n",
        "        os.mkdir(train_dir)\n",
        "        os.mkdir(validation_dir)\n",
        "        os.mkdir(test_dir)\n",
        "        for c in ['dogs', 'cats']: \n",
        "            os.mkdir(os.path.join(train_dir, c))\n",
        "            os.mkdir(os.path.join(validation_dir, c))\n",
        "        os.mkdir(os.path.join(test_dir, 'images'))\n",
        "        print('created the required directory structure')        \n",
        "       \n",
        "        train_cats = ['cat.{}.jpg'.format(i) for i in range(11000)]\n",
        "        for t in train_cats:\n",
        "             shutil.copy2(os.path.join(train_dir_original, t), os.path.join(train_dir, 'cats'))\n",
        "        train_dogs = ['dog.{}.jpg'.format(i) for i in range(11000)]\n",
        "        for t in train_dogs:\n",
        "             shutil.copy2(os.path.join(train_dir_original, t), os.path.join(train_dir, 'dogs'))        \n",
        "        val_cats = ['cat.{}.jpg'.format(i) for i in range(11000, 12500)]\n",
        "        for t in val_cats:\n",
        "             shutil.copy2(os.path.join(train_dir_original, t), os.path.join(validation_dir, 'cats'))\n",
        "        val_dogs = ['dog.{}.jpg'.format(i) for i in range(11000, 12500)]\n",
        "        for t in val_dogs:\n",
        "             shutil.copy2(os.path.join(train_dir_original, t), os.path.join(validation_dir, 'dogs'))\n",
        "\n",
        "        files = os.listdir(test_dir_original)           \n",
        "        test_files = [os.path.join(test_dir_original, f) for f in files]\n",
        "        for t in test_files:\n",
        "            shutil.copy2(t, os.path.join(test_dir, 'images'))\n",
        "    else:\n",
        "        print('required directory structure already exists. learning continues with existing data')\n",
        "    \n",
        "    nb_train_samples = 0  \n",
        "    nb_validation_samples = 0\n",
        "    for c in ['dogs', 'cats']:\n",
        "        nb_train_samples = nb_train_samples + len(os.listdir(os.path.join(train_dir, c)))\n",
        "    print('total training images:', nb_train_samples)\n",
        "    for c in ['dogs', 'cats']:\n",
        "        nb_validation_samples = nb_validation_samples + len(os.listdir(os.path.join(validation_dir, c)))\n",
        "    print('total validation images:', nb_validation_samples)\n",
        "    nb_test_samples = len(os.listdir(os.path.join(test_dir, 'images')))\n",
        "    print('total test images:', nb_test_samples )\n",
        "\n",
        "    return train_dir, validation_dir, test_dir, nb_train_samples, nb_validation_samples, nb_test_samples\n",
        "def plot_loss_accuracy(history):\n",
        "    acc = history.history['acc']\n",
        "    val_acc = history.history['val_acc']\n",
        "    epochs = range(len(history.epoch))\n",
        "    plt.plot(epochs, acc, 'bo', label='Training acc')\n",
        "    plt.plot(epochs, val_acc, 'b', label='Validation acc')\n",
        "    plt.title('Training and validation accuracy')\n",
        "    plt.legend()\n",
        "    \n",
        "    plt.figure()\n",
        "    loss = history.history['loss']\n",
        "    val_loss = history.history['val_loss']\n",
        "    plt.plot(epochs, loss, 'bo', label='Training loss')\n",
        "    plt.plot(epochs, val_loss, 'b', label='Validation loss')\n",
        "    plt.title('Training and validation loss')\n",
        "    plt.legend()\n",
        "\n",
        "    plt.show()"
      ],
      "execution_count": 0,
      "outputs": []
    },
    {
      "metadata": {
        "id": "_m0F99_tpr95",
        "colab_type": "code",
        "colab": {}
      },
      "cell_type": "code",
      "source": [
        "\n",
        "from keras.preprocessing.image import ImageDataGenerator\n",
        "from keras.models import Sequential\n",
        "from keras.layers import Conv2D, MaxPooling2D\n",
        "from keras.layers import Flatten, Dense, Dropout\n",
        "from keras import backend as K\n",
        "import os, shutil, random\n",
        "import matplotlib.pyplot as plt\n",
        "import pandas as pd\n",
        "from keras.callbacks import ModelCheckpoint, EarlyStopping"
      ],
      "execution_count": 0,
      "outputs": []
    },
    {
      "metadata": {
        "id": "H7-592ESqCOs",
        "colab_type": "code",
        "colab": {
          "base_uri": "https://localhost:8080/",
          "height": 85
        },
        "outputId": "17994098-04f7-4825-fa47-3b026af4d456"
      },
      "cell_type": "code",
      "source": [
        "train_dir, validation_dir, test_dir, nb_train_samples, nb_validation_samples,nb_test_samples = preapare_full_dataset_for_flow(\n",
        "                            train_dir_original='/content/kaggle/dogs-vs-cats/extracted/train', \n",
        "                            test_dir_original='/content/kaggle/dogs-vs-cats/extracted/test1',\n",
        "                            target_base_dir='/content/kaggle/dogs-vs-cats/extracted/target')"
      ],
      "execution_count": 22,
      "outputs": [
        {
          "output_type": "stream",
          "text": [
            "created the required directory structure\n",
            "total training images: 20000\n",
            "total validation images: 5000\n",
            "total test images: 12500\n"
          ],
          "name": "stdout"
        }
      ]
    },
    {
      "metadata": {
        "id": "6Dg3_AUyOo9Q",
        "colab_type": "code",
        "colab": {}
      },
      "cell_type": "code",
      "source": [
        "\n",
        "\n",
        "img_width, img_height = 150, 150\n",
        "epochs = 100\n",
        "batch_size = 20\n",
        "\n",
        "if K.image_data_format() == 'channels_first':\n",
        "    input_shape = (3, img_width, img_height)\n",
        "else:\n",
        "    input_shape = (img_width, img_height, 3)"
      ],
      "execution_count": 0,
      "outputs": []
    },
    {
      "metadata": {
        "id": "CTNDXu7pyWpl",
        "colab_type": "code",
        "colab": {
          "base_uri": "https://localhost:8080/",
          "height": 561
        },
        "outputId": "d4321d35-cc6a-4b07-fb3e-f751ec91f060"
      },
      "cell_type": "code",
      "source": [
        "\n",
        "model = Sequential()\n",
        "model.add(Conv2D(32, (3, 3), activation='relu',input_shape=input_shape))\n",
        "model.add(MaxPooling2D((2, 2)))\n",
        "model.add(Conv2D(64, (3, 3), activation='relu'))\n",
        "model.add(MaxPooling2D((2, 2)))\n",
        "model.add(Conv2D(128, (3, 3), activation='relu'))\n",
        "model.add(MaxPooling2D((2, 2)))\n",
        "model.add(Conv2D(128, (3, 3), activation='relu'))\n",
        "model.add(MaxPooling2D((2, 2)))\n",
        "model.add(Flatten())\n",
        "model.add(Dense(512, activation='relu'))\n",
        "model.add(Dropout(0.5))\n",
        "model.add(Dense(2, activation='softmax'))\n",
        "print(model.summary())"
      ],
      "execution_count": 24,
      "outputs": [
        {
          "output_type": "stream",
          "text": [
            "_________________________________________________________________\n",
            "Layer (type)                 Output Shape              Param #   \n",
            "=================================================================\n",
            "conv2d_1 (Conv2D)            (None, 148, 148, 32)      896       \n",
            "_________________________________________________________________\n",
            "max_pooling2d_1 (MaxPooling2 (None, 74, 74, 32)        0         \n",
            "_________________________________________________________________\n",
            "conv2d_2 (Conv2D)            (None, 72, 72, 64)        18496     \n",
            "_________________________________________________________________\n",
            "max_pooling2d_2 (MaxPooling2 (None, 36, 36, 64)        0         \n",
            "_________________________________________________________________\n",
            "conv2d_3 (Conv2D)            (None, 34, 34, 128)       73856     \n",
            "_________________________________________________________________\n",
            "max_pooling2d_3 (MaxPooling2 (None, 17, 17, 128)       0         \n",
            "_________________________________________________________________\n",
            "conv2d_4 (Conv2D)            (None, 15, 15, 128)       147584    \n",
            "_________________________________________________________________\n",
            "max_pooling2d_4 (MaxPooling2 (None, 7, 7, 128)         0         \n",
            "_________________________________________________________________\n",
            "flatten_1 (Flatten)          (None, 6272)              0         \n",
            "_________________________________________________________________\n",
            "dense_1 (Dense)              (None, 512)               3211776   \n",
            "_________________________________________________________________\n",
            "dropout_1 (Dropout)          (None, 512)               0         \n",
            "_________________________________________________________________\n",
            "dense_2 (Dense)              (None, 2)                 1026      \n",
            "=================================================================\n",
            "Total params: 3,453,634\n",
            "Trainable params: 3,453,634\n",
            "Non-trainable params: 0\n",
            "_________________________________________________________________\n",
            "None\n"
          ],
          "name": "stdout"
        }
      ]
    },
    {
      "metadata": {
        "id": "KwpwwaQOybPQ",
        "colab_type": "code",
        "colab": {}
      },
      "cell_type": "code",
      "source": [
        "\n",
        "model.compile(loss='binary_crossentropy', \n",
        "              optimizer='adam',\n",
        "              metrics=['accuracy'])"
      ],
      "execution_count": 0,
      "outputs": []
    },
    {
      "metadata": {
        "id": "S0CHXN8fyf0F",
        "colab_type": "code",
        "colab": {}
      },
      "cell_type": "code",
      "source": [
        "\n",
        "#Data Augmentation (New Data Generation)\n",
        "train_datagen = ImageDataGenerator(\n",
        "        rescale=1./255,\n",
        "        rotation_range=40,\n",
        "        width_shift_range=0.2,\n",
        "        height_shift_range=0.2,\n",
        "        shear_range=0.2,\n",
        "        zoom_range=0.2,\n",
        "        horizontal_flip=True,\n",
        "        fill_mode='nearest')"
      ],
      "execution_count": 0,
      "outputs": []
    },
    {
      "metadata": {
        "id": "2WE2m4LVyjVP",
        "colab_type": "code",
        "colab": {}
      },
      "cell_type": "code",
      "source": [
        "#If we want, you can write all these Augmented data into new files\n",
        "validation_datagen = ImageDataGenerator(rescale=1. / 255)"
      ],
      "execution_count": 0,
      "outputs": []
    },
    {
      "metadata": {
        "id": "0hpLCnkSyscD",
        "colab_type": "code",
        "colab": {
          "base_uri": "https://localhost:8080/",
          "height": 51
        },
        "outputId": "f8c86b7c-d21e-4b9a-c641-a2bbb6e05601"
      },
      "cell_type": "code",
      "source": [
        "\n",
        "train_generator = train_datagen.flow_from_directory(\n",
        "    train_dir,\n",
        "    target_size=(img_width, img_height),\n",
        "    batch_size=batch_size,\n",
        "    class_mode='categorical')\n",
        "validation_generator = validation_datagen.flow_from_directory(\n",
        "    validation_dir,\n",
        "    target_size=(img_width, img_height),\n",
        "    batch_size=batch_size,\n",
        "    class_mode='categorical')\n",
        "\n",
        "early_stopping = EarlyStopping(monitor='val_loss', patience=3, verbose=1, mode='auto')   \n",
        "save_weights = ModelCheckpoint('model.h5', monitor='val_loss', save_best_only=True)"
      ],
      "execution_count": 28,
      "outputs": [
        {
          "output_type": "stream",
          "text": [
            "Found 20000 images belonging to 2 classes.\n",
            "Found 5000 images belonging to 2 classes.\n"
          ],
          "name": "stdout"
        }
      ]
    },
    {
      "metadata": {
        "id": "aPT7ACs6y1Si",
        "colab_type": "code",
        "colab": {
          "base_uri": "https://localhost:8080/",
          "height": 190
        },
        "outputId": "1528be65-147c-4322-d55b-6880d9a446da"
      },
      "cell_type": "code",
      "source": [
        "history = model.fit_generator(\n",
        "    train_generator,\n",
        "    steps_per_epoch=nb_train_samples//batch_size,\n",
        "    epochs=epochs,\n",
        "    validation_data=validation_generator,\n",
        "    validation_steps=nb_validation_samples//batch_size,\n",
        "    callbacks=[save_weights, early_stopping])\n"
      ],
      "execution_count": 29,
      "outputs": [
        {
          "output_type": "stream",
          "text": [
            "Epoch 1/100\n",
            "1000/1000 [==============================] - 207s 207ms/step - loss: 0.0010 - acc: 0.9991 - val_loss: 1.0960e-07 - val_acc: 1.0000\n",
            "Epoch 2/100\n",
            "  17/1000 [..............................] - ETA: 1:21 - loss: 1.0960e-07 - acc: 1.0000"
          ],
          "name": "stdout"
        },
        {
          "output_type": "stream",
          "text": [
            "1000/1000 [==============================] - 200s 200ms/step - loss: 1.0960e-07 - acc: 1.0000 - val_loss: 1.0960e-07 - val_acc: 1.0000\n",
            "Epoch 3/100\n",
            "  57/1000 [>.............................] - ETA: 2:22 - loss: 1.0960e-07 - acc: 1.0000"
          ],
          "name": "stdout"
        },
        {
          "output_type": "stream",
          "text": [
            "1000/1000 [==============================] - 197s 197ms/step - loss: 1.0960e-07 - acc: 1.0000 - val_loss: 1.0960e-07 - val_acc: 1.0000\n",
            "Epoch 4/100\n",
            "  77/1000 [=>............................] - ETA: 2:27 - loss: 1.0960e-07 - acc: 1.0000"
          ],
          "name": "stdout"
        },
        {
          "output_type": "stream",
          "text": [
            "1000/1000 [==============================] - 198s 198ms/step - loss: 1.0960e-07 - acc: 1.0000 - val_loss: 1.0960e-07 - val_acc: 1.0000\n",
            "Epoch 00004: early stopping\n"
          ],
          "name": "stdout"
        }
      ]
    },
    {
      "metadata": {
        "id": "LeUrYwTx50d4",
        "colab_type": "code",
        "colab": {
          "base_uri": "https://localhost:8080/",
          "height": 34
        },
        "outputId": "eef0bf33-9536-4a8c-b070-d7d532dc13cb"
      },
      "cell_type": "code",
      "source": [
        "test_datagen = ImageDataGenerator(rescale=1. / 255)\n",
        "test_generator = test_datagen.flow_from_directory(\n",
        "        test_dir,\n",
        "        target_size=(img_width, img_height),\n",
        "        batch_size=batch_size,\n",
        "        class_mode=None,\n",
        "        shuffle=False)\n",
        "#print(test_generator.filenames)\n",
        "probabilities = model.predict_generator(test_generator, nb_test_samples//batch_size)\n",
        "\n",
        "mapper = {}\n",
        "i = 0"
      ],
      "execution_count": 31,
      "outputs": [
        {
          "output_type": "stream",
          "text": [
            "Found 12500 images belonging to 1 classes.\n"
          ],
          "name": "stdout"
        }
      ]
    },
    {
      "metadata": {
        "id": "HBzd6WMA6Dm5",
        "colab_type": "code",
        "colab": {
          "base_uri": "https://localhost:8080/",
          "height": 231
        },
        "outputId": "636b5d9f-a135-423e-e6e3-848c59b960f6"
      },
      "cell_type": "code",
      "source": [
        "for file in test_generator.filenames:\n",
        "    id = int(file.split('\\\\')[1].split('.')[0])\n",
        "    #Lexographic order\n",
        "    #mapper[id] = probabilities[i][0] #Cats\n",
        "    mapper[id] = probabilities[i][1] #Dogs\n",
        "    i += 1\n",
        "    \n",
        "#od = collections.OrderedDict(sorted(mapper.items()))    \n",
        "tmp = pd.DataFrame({'id':list(mapper.keys()),'label':list(mapper.values())})    \n",
        "tmp.to_csv('submission.csv', columns=['id','label'], index=False)"
      ],
      "execution_count": 32,
      "outputs": [
        {
          "output_type": "error",
          "ename": "IndexError",
          "evalue": "ignored",
          "traceback": [
            "\u001b[0;31m---------------------------------------------------------------------------\u001b[0m",
            "\u001b[0;31mIndexError\u001b[0m                                Traceback (most recent call last)",
            "\u001b[0;32m<ipython-input-32-4acd85bfaed3>\u001b[0m in \u001b[0;36m<module>\u001b[0;34m()\u001b[0m\n\u001b[1;32m      1\u001b[0m \u001b[0;32mfor\u001b[0m \u001b[0mfile\u001b[0m \u001b[0;32min\u001b[0m \u001b[0mtest_generator\u001b[0m\u001b[0;34m.\u001b[0m\u001b[0mfilenames\u001b[0m\u001b[0;34m:\u001b[0m\u001b[0;34m\u001b[0m\u001b[0m\n\u001b[0;32m----> 2\u001b[0;31m     \u001b[0mid\u001b[0m \u001b[0;34m=\u001b[0m \u001b[0mint\u001b[0m\u001b[0;34m(\u001b[0m\u001b[0mfile\u001b[0m\u001b[0;34m.\u001b[0m\u001b[0msplit\u001b[0m\u001b[0;34m(\u001b[0m\u001b[0;34m'\\\\'\u001b[0m\u001b[0;34m)\u001b[0m\u001b[0;34m[\u001b[0m\u001b[0;36m1\u001b[0m\u001b[0;34m]\u001b[0m\u001b[0;34m.\u001b[0m\u001b[0msplit\u001b[0m\u001b[0;34m(\u001b[0m\u001b[0;34m'.'\u001b[0m\u001b[0;34m)\u001b[0m\u001b[0;34m[\u001b[0m\u001b[0;36m0\u001b[0m\u001b[0;34m]\u001b[0m\u001b[0;34m)\u001b[0m\u001b[0;34m\u001b[0m\u001b[0m\n\u001b[0m\u001b[1;32m      3\u001b[0m     \u001b[0;31m#Lexographic order\u001b[0m\u001b[0;34m\u001b[0m\u001b[0;34m\u001b[0m\u001b[0m\n\u001b[1;32m      4\u001b[0m     \u001b[0;31m#mapper[id] = probabilities[i][0] #Cats\u001b[0m\u001b[0;34m\u001b[0m\u001b[0;34m\u001b[0m\u001b[0m\n\u001b[1;32m      5\u001b[0m     \u001b[0mmapper\u001b[0m\u001b[0;34m[\u001b[0m\u001b[0mid\u001b[0m\u001b[0;34m]\u001b[0m \u001b[0;34m=\u001b[0m \u001b[0mprobabilities\u001b[0m\u001b[0;34m[\u001b[0m\u001b[0mi\u001b[0m\u001b[0;34m]\u001b[0m\u001b[0;34m[\u001b[0m\u001b[0;36m1\u001b[0m\u001b[0;34m]\u001b[0m \u001b[0;31m#Dogs\u001b[0m\u001b[0;34m\u001b[0m\u001b[0m\n",
            "\u001b[0;31mIndexError\u001b[0m: list index out of range"
          ]
        }
      ]
    }
  ]
}